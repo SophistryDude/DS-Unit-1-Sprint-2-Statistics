{
  "nbformat": 4,
  "nbformat_minor": 0,
  "metadata": {
    "colab": {
      "name": "DS19_Data_Wrangling_Build_Week_Datasets.ipynb",
      "provenance": [],
      "collapsed_sections": [],
      "include_colab_link": true
    },
    "kernelspec": {
      "name": "python3",
      "display_name": "Python 3"
    }
  },
  "cells": [
    {
      "cell_type": "markdown",
      "metadata": {
        "id": "view-in-github",
        "colab_type": "text"
      },
      "source": [
        "<a href=\"https://colab.research.google.com/github/SophistryDude/DS-Unit-1-Sprint-2-Statistics/blob/master/DS19_Data_Wrangling_Build_Week_Datasets.ipynb\" target=\"_parent\"><img src=\"https://colab.research.google.com/assets/colab-badge.svg\" alt=\"Open In Colab\"/></a>"
      ]
    },
    {
      "cell_type": "markdown",
      "metadata": {
        "id": "h9nlDjiCtT_U",
        "colab_type": "text"
      },
      "source": [
        "## Use this notebook to organize your research for datasets to use on your project. \n",
        "1. Put your name at the beginning of the title/notebook name.\n",
        "2. Get at least 3 datasets that you would like to work with\n",
        "3. Share this back to your TL ASAP"
      ]
    },
    {
      "cell_type": "markdown",
      "metadata": {
        "id": "UQoOkWrUyuMF",
        "colab_type": "text"
      },
      "source": [
        "### Helpful Links and Tips\n",
        "\n",
        "\n",
        "*   [Repo](https://github.com/LambdaSchool/DS-Unit-1-Build#deliverables) for the Build Week Project\n",
        "*   [Rubric](https://github.com/LambdaSchool/DS-Unit-1-Build#rubric) to follow\n",
        "* [Examples](https://github.com/LambdaSchool/DS-Unit-1-Build#examples) of other projects from pervious students\n",
        "* Where **NOT** to get your data - [Don't use any dataset from this site](https://archive.ics.uci.edu/ml/index.php) Everyone has used these, find something more interesting, your goal is to tell a story so make it count with new/complex/fun data. Think outside the box.\n",
        "\n"
      ]
    },
    {
      "cell_type": "markdown",
      "metadata": {
        "id": "TthN2adst87P",
        "colab_type": "text"
      },
      "source": [
        "# <font color=orange> First Dataset </font>  💻\n"
      ]
    },
    {
      "cell_type": "markdown",
      "metadata": {
        "id": "2Xm95eNjuB8B",
        "colab_type": "text"
      },
      "source": [
        "📛 Name of dataset: ...\n",
        "<br> <br> 📍 Location of dataset (URL): ...\n",
        "<br><br>🧮 How many obeservations (rows) are there?: ...\n",
        "<br><br>🧮 How many features (columns) are there?: ...\n"
      ]
    },
    {
      "cell_type": "markdown",
      "metadata": {
        "id": "71u2VIgSurZU",
        "colab_type": "text"
      },
      "source": [
        "🤔 What questions could you ask with this dataset?\n",
        "\n",
        "\n",
        "1.   List item\n",
        "2.   List item\n",
        "1.   List item\n",
        "2.   List item\n",
        "\n",
        "\n"
      ]
    },
    {
      "cell_type": "markdown",
      "metadata": {
        "id": "GfkILVi9vDwm",
        "colab_type": "text"
      },
      "source": [
        "📝 Notes about this First Dataset:\n",
        "\n",
        "\n",
        "*   List item\n",
        "\n",
        "*   List item\n",
        "*   List item\n",
        "\n",
        "\n",
        "*   List item\n",
        "\n"
      ]
    },
    {
      "cell_type": "code",
      "metadata": {
        "id": "lf8nCMiumq1f",
        "colab_type": "code",
        "colab": {}
      },
      "source": [
        "''' Load in your data set\n",
        "Look at the head and tail of the df.\n",
        "How many Nans are there?\n",
        "What data types are the columns?\n",
        "'''"
      ],
      "execution_count": null,
      "outputs": []
    },
    {
      "cell_type": "markdown",
      "metadata": {
        "id": "RKfZCWc9u4kv",
        "colab_type": "text"
      },
      "source": [
        "# <font color=blue> Second Dataset </font> 📊"
      ]
    },
    {
      "cell_type": "markdown",
      "metadata": {
        "id": "-8oYqtNyu_Bh",
        "colab_type": "text"
      },
      "source": [
        "📛 Name of dataset: ...\n",
        "<br> <br> 📍 Location of dataset (URL): ...\n",
        "<br><br>🧮 How many obeservations (rows) are there?: ...\n",
        "<br><br>🧮 How many features (columns) are there?: ...\n"
      ]
    },
    {
      "cell_type": "markdown",
      "metadata": {
        "id": "SQ_SVDQYu_Jo",
        "colab_type": "text"
      },
      "source": [
        "🤔 What questions could you ask with this dataset?\n",
        "\n",
        "\n",
        "1.   List item\n",
        "2.   List item\n",
        "1.   List item\n",
        "2.   List item\n",
        "\n",
        "\n"
      ]
    },
    {
      "cell_type": "markdown",
      "metadata": {
        "id": "yTygoMd8vJGt",
        "colab_type": "text"
      },
      "source": [
        "📝 Notes about this Second Dataset\n",
        "\n",
        "\n",
        "*   List item\n",
        "\n",
        "*   List item\n",
        "*   List item\n",
        "\n",
        "\n",
        "*   List item\n",
        "\n"
      ]
    },
    {
      "cell_type": "code",
      "metadata": {
        "id": "tkkSqbHTm7Zf",
        "colab_type": "code",
        "colab": {}
      },
      "source": [
        "''' Load in your data set\n",
        "Look at the head and tail of the df.\n",
        "How many Nans are there?\n",
        "What data types are the columns?\n",
        "'''"
      ],
      "execution_count": null,
      "outputs": []
    },
    {
      "cell_type": "markdown",
      "metadata": {
        "id": "07IFhpzsvTRQ",
        "colab_type": "text"
      },
      "source": [
        "# <font color=purple> Third Dataset </font> 🗃️"
      ]
    },
    {
      "cell_type": "markdown",
      "metadata": {
        "id": "D3wfXhgevXCT",
        "colab_type": "text"
      },
      "source": [
        "📛 Name of dataset: ...\n",
        "<br> <br> 📍 Location of dataset (URL): ...\n",
        "<br><br>🧮 How many obeservations (rows) are there?: ...\n",
        "<br><br>🧮 How many features (columns) are there?: ...\n"
      ]
    },
    {
      "cell_type": "markdown",
      "metadata": {
        "id": "lSqH-eXBvX7S",
        "colab_type": "text"
      },
      "source": [
        "🤔 What questions could you ask with this dataset? \n",
        "\n",
        "\n",
        "1.   List item\n",
        "2.   List item\n",
        "1.   List item\n",
        "2.   List item\n",
        "\n",
        "\n"
      ]
    },
    {
      "cell_type": "markdown",
      "metadata": {
        "id": "CYiGFl5VvaKi",
        "colab_type": "text"
      },
      "source": [
        "📝 Notes about this Third Dataset:\n",
        "\n",
        "\n",
        "*   List item\n",
        "\n",
        "*   List item\n",
        "*   List item\n",
        "\n",
        "\n",
        "*   List item\n",
        "\n"
      ]
    },
    {
      "cell_type": "code",
      "metadata": {
        "id": "XyXGf4s-m80z",
        "colab_type": "code",
        "colab": {}
      },
      "source": [
        "''' Load in your data set\n",
        "Look at the head and tail of the df.\n",
        "How many Nans are there?\n",
        "What data types are the columns?\n",
        "'''"
      ],
      "execution_count": null,
      "outputs": []
    }
  ]
}